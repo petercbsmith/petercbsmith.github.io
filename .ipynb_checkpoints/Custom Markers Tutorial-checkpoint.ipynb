{
 "cells": [
  {
   "cell_type": "markdown",
   "metadata": {},
   "source": [
    "# Tutorial: Making custom matplotlib markers\n",
    "\n",
    "Add a little personal touch or more options for clarity to your scatter plots with your own custom markers! In this short tutorial I'll explain step by step how you can create and use virtually any shape you can think of as a marker.\n",
    "\n",
    "Things you will need:\n",
    "\n",
    "Imaging Processing Software\n",
    "\n",
    "svgpath2mpl package (see step 2)\n",
    "\n",
    "Text editor\n",
    "\n",
    "\n",
    "## Step 1. \n",
    "To begin, you will need to decide on the image or shape you would like to convert into a marker. The only requirement is that you must have your image as a SVG file. It is possible to convert PDFs to SVGs, save digital drawings as SVGs, or find SVG clipart online. (Note: when taking images from the internet, always be aware of the copyright and how you will use them. Using copyrighted images once in a limited capacity for \"scholarly\" purposes (e.g., in your lectures, at a conference, etc.) falls under \"fair use\" and is fine, but using them in a way in which access is unlimited or you make money is not. If you're worried about legal ambiguity, it's best to stick to images in the public domain or under a creative commons license.)\n",
    "\n",
    "Create a new directory and save your image there."
   ]
  },
  {
   "cell_type": "markdown",
   "metadata": {},
   "source": [
    "## Step 2: install svgpath2mpl\n",
    "\n",
    "Next, you need the svgpath2mpl package. You can simply use pip in your terminal:\n",
    "\n",
    "$\\texttt{pip install svgpath2mpl}$\n",
    "\n",
    "What this package does is allow us to parse the SVG path of our image to a matplotlib $\\texttt{Path}$ object. "
   ]
  },
  {
   "cell_type": "markdown",
   "metadata": {},
   "source": [
    "## Step 3: Export the SVG path\n",
    "\n",
    "Open the SVG file in the image processing software of your choice. I use the unfortunately named GIMP software, which is free for Windows. Next, we want to export the SVG path. In GIMP, this is done by selecting the image, then clicking Select > To Path. Go to the Paths window, right click on the selection and click Export Path. Save the path as a text file where you wish.\n",
    "\n",
    "I DONT KNOW FOR SURE ABOUT THIS\n",
    "In photoshop, this is done by selecting the appropriate layer, then right clicking on the selection and selecting Export > Export As. Choose SVG formate and export to a text file.\n",
    "\n",
    "\n",
    "Maybe add in, flip the image horizontally. Vertically too?"
   ]
  },
  {
   "cell_type": "markdown",
   "metadata": {},
   "source": [
    "## Step 4: Parse the path\n",
    "\n",
    "Open your SVG path in the text editor of your choice. The part we care about is the long string of numbers that begins with M and starts after d=. Select this string and copy to your clipboard. Next, either open a Jupyter Notebook or a new blank text document and terminal. In Python, import the following:\n",
    "\n",
    "$\\texttt{import matplotlib as mpl}$\n",
    "\n",
    "$\\texttt{from svgpath2mpl import parse_path}$\n",
    "\n",
    "Then, create your new matplotlib $\\texttt{Path}$ object by passing that long string into the $\\texttt{parse_path}$ function. The very last thing you will need to do is rotate it:"
   ]
  },
  {
   "cell_type": "code",
   "execution_count": null,
   "metadata": {},
   "outputs": [],
   "source": [
    "marker = marker.transformed(mpl.transforms.Affine2D().rotate_deg(180))"
   ]
  },
  {
   "cell_type": "markdown",
   "metadata": {},
   "source": [
    "Congratulations, you can now use your custom marker! Make a nice plot to take it for a spin:\n",
    "\n",
    "\n",
    "code here\n",
    "\n",
    "\n",
    "## Step 5: Creating a custom marker package.\n",
    "\n",
    "If you were using Jupyter Notebook before, transfer your code to create the marker into a .py script. Within the same directory, create a file $\\texttt{__init__.py}$. You don't have to do anything with it and it can be empty. In terminal, open your .profile file"
   ]
  },
  {
   "cell_type": "code",
   "execution_count": null,
   "metadata": {},
   "outputs": [],
   "source": [
    "nano ~/.profile"
   ]
  },
  {
   "cell_type": "markdown",
   "metadata": {},
   "source": [
    "and add the following line:"
   ]
  },
  {
   "cell_type": "code",
   "execution_count": null,
   "metadata": {},
   "outputs": [],
   "source": [
    "export PYTHONPATH=$PYTHONPATH:/path/to/marker/script"
   ]
  },
  {
   "cell_type": "markdown",
   "metadata": {},
   "source": [
    "You can now import your custom marker into your notebooks and scripts from any directory. You can keep adding as many markers as you want to the original script:\n",
    "\n",
    "\n",
    "code example\n",
    "\n",
    "\n",
    "\n",
    "And that's it!! Show me your markers or reach out if you have trouble on Twitter @ExoplanetPete. Happy plotting! "
   ]
  }
 ],
 "metadata": {
  "kernelspec": {
   "display_name": "Python 3",
   "language": "python",
   "name": "python3"
  },
  "language_info": {
   "codemirror_mode": {
    "name": "ipython",
    "version": 3
   },
   "file_extension": ".py",
   "mimetype": "text/x-python",
   "name": "python",
   "nbconvert_exporter": "python",
   "pygments_lexer": "ipython3",
   "version": "3.7.6"
  }
 },
 "nbformat": 4,
 "nbformat_minor": 4
}
